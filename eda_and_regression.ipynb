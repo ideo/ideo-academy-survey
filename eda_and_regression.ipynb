{
 "cells": [
  {
   "cell_type": "code",
   "execution_count": 1,
   "metadata": {},
   "outputs": [],
   "source": [
    "import pandas as pd\n",
    "import pathlib\n",
    "import seaborn as sns\n",
    "\n",
    "from matplotlib import pyplot as plt\n",
    "from pprint import pprint\n",
    "\n",
    "from settings import (BASE_CSV_PATH, QUALTRICS_DROP_COLS, SKIP_COLS, \n",
    "                      MULTISELECT_COLS, AGREE_DISAGREE_COLS, IMPORTANCE_COLS, \n",
    "                      STANDARD_DUMMY_COLS, UTILITY_SCORE_COLS)"
   ]
  },
  {
   "cell_type": "code",
   "execution_count": 2,
   "metadata": {},
   "outputs": [
    {
     "data": {
      "text/plain": [
       "(675, 139)"
      ]
     },
     "execution_count": 2,
     "metadata": {},
     "output_type": "execute_result"
    }
   ],
   "source": [
    "base_df = pd.read_csv(BASE_CSV_PATH)\n",
    "base_df.shape"
   ]
  },
  {
   "cell_type": "markdown",
   "metadata": {},
   "source": [
    "Only 675 responses, I assume?"
   ]
  },
  {
   "cell_type": "markdown",
   "metadata": {},
   "source": [
    "## Pre-processing functions"
   ]
  },
  {
   "cell_type": "code",
   "execution_count": 3,
   "metadata": {},
   "outputs": [],
   "source": [
    "def drop_utility_question_columns(in_df):\n",
    "    out_df = in_df.copy()\n",
    "    util_cols = [c for c in in_df.columns if \"(This leaves 1 choice\" in c]\n",
    "    return out_df.drop(labels = util_cols, axis = 1)"
   ]
  },
  {
   "cell_type": "code",
   "execution_count": 4,
   "metadata": {},
   "outputs": [],
   "source": [
    "def create_multinational_column(in_df, op_column = \"Where does your organization have offices\", \n",
    "                                null_fill = \"\"):\n",
    "    out_df = in_df.copy()\n",
    "    out_df[\"is_multinational\"] = out_df[op_column].fillna(null_fill)\n",
    "    out_df[\"is_multinational\"] = out_df.is_multinational.str.contains(\"Multi\")\n",
    "    out_df[\"is_multinational\"] = out_df.is_multinational.astype(int)\n",
    "    return out_df.drop(labels = op_column, axis = 1)"
   ]
  },
  {
   "cell_type": "code",
   "execution_count": 5,
   "metadata": {},
   "outputs": [],
   "source": [
    "def create_executive_column(in_df, op_column = \"What is your seniority level?\", \n",
    "                                null_fill = \"\"):\n",
    "    out_df = in_df.copy()\n",
    "    out_df[\"is_executive\"] = out_df[op_column].fillna(null_fill)\n",
    "    out_df[\"is_executive\"] = out_df.is_executive.str.contains(\"Exec\")\n",
    "    out_df[\"is_executive\"] = out_df.is_executive.astype(int)\n",
    "    return out_df.drop(labels = op_column, axis = 1)"
   ]
  },
  {
   "cell_type": "code",
   "execution_count": 6,
   "metadata": {},
   "outputs": [],
   "source": [
    "def create_male_column(in_df, op_column = \"What best describes your gender?\", \n",
    "                                null_fill = \"\"):\n",
    "    out_df = in_df.copy()\n",
    "    out_df[\"is_male\"] = out_df[op_column].fillna(null_fill)\n",
    "    out_df[\"is_male\"] = out_df.is_male.str.contains(\"Male\")\n",
    "    out_df[\"is_male\"] = out_df.is_executive.astype(int)\n",
    "    return out_df.drop(labels = op_column, axis = 1)"
   ]
  },
  {
   "cell_type": "code",
   "execution_count": 7,
   "metadata": {},
   "outputs": [],
   "source": [
    "def add_cluster_columns(in_df, op_column = \"labels\"):\n",
    "    out_df = in_df.copy()\n",
    "    out_df[\"clust_zeroAndOne\"] = [1 if v in [0,1] else 0 for v in in_df[op_column]]\n",
    "    out_df[\"clust_eight\"] = [1 if v == 8 else 0 for v in in_df[op_column]]\n",
    "    out_df[\"clust_sixAndNine\"] = [1 if v in [6,9] else 0 for v in in_df[op_column]]\n",
    "    return out_df.drop(labels = op_column, axis = 1)"
   ]
  },
  {
   "cell_type": "code",
   "execution_count": 8,
   "metadata": {},
   "outputs": [],
   "source": [
    "def add_dummmies_to_df(in_df, col_to_code, coding_prefix, prefix_sep = \"_\"):\n",
    "    ''' Will work for naively dropping levels where there's no specific meaning to\n",
    "    the effect and it's just belonging to a category\n",
    "    \n",
    "    I may need to handle the 'agree - disagree' columns separately...\n",
    "    '''\n",
    "    level_count = in_df[col_to_code].nunique()\n",
    "    if level_count < 3:\n",
    "        print(f\"\\tColumn {col_to_code} only has {level_count} levels...\")\n",
    "        print(f\"\\tReturning unmodified df\")\n",
    "        return in_df\n",
    "    dummy_df = pd.get_dummies(data = in_df[col_to_code], \n",
    "                              prefix = coding_prefix, \n",
    "                              prefix_sep = prefix_sep)\n",
    "    dummy_cols = dummy_df.columns.tolist()\n",
    "    drop_col_index = dummy_df.sum().argmin()\n",
    "    drop_col = dummy_cols[drop_col_index]\n",
    "    print(f\"\\tRemoving level {drop_col} from coding for {col_to_code}\")\n",
    "    dummy_df.drop(labels = drop_col, axis = 1, inplace = True)\n",
    "    out_df = in_df.join(dummy_df, how = \"inner\")\n",
    "    return out_df.drop(labels = col_to_code, axis = 1)"
   ]
  },
  {
   "cell_type": "markdown",
   "metadata": {},
   "source": [
    "## Preprocessing Steps"
   ]
  },
  {
   "cell_type": "markdown",
   "metadata": {},
   "source": [
    "**Remove columns that are component ingredients for the overall utility scores:** Any column with `(This leaves 1 choice` can be dropped off, just because these are the component ingredients for the overall utilities."
   ]
  },
  {
   "cell_type": "code",
   "execution_count": 9,
   "metadata": {},
   "outputs": [],
   "source": [
    "reg_df = drop_utility_question_columns(in_df = base_df)"
   ]
  },
  {
   "cell_type": "code",
   "execution_count": 10,
   "metadata": {},
   "outputs": [
    {
     "data": {
      "text/plain": [
       "(675, 96)"
      ]
     },
     "execution_count": 10,
     "metadata": {},
     "output_type": "execute_result"
    }
   ],
   "source": [
    "reg_df.shape"
   ]
  },
  {
   "cell_type": "markdown",
   "metadata": {},
   "source": [
    "**Remove columns that you haven't figured out how to fully deal with yet**"
   ]
  },
  {
   "cell_type": "code",
   "execution_count": 11,
   "metadata": {},
   "outputs": [],
   "source": [
    "for column_group in [QUALTRICS_DROP_COLS, SKIP_COLS, MULTISELECT_COLS, AGREE_DISAGREE_COLS, IMPORTANCE_COLS]:\n",
    "    reg_df.drop(labels = column_group, axis = 1, inplace = True)"
   ]
  },
  {
   "cell_type": "code",
   "execution_count": 12,
   "metadata": {},
   "outputs": [
    {
     "data": {
      "text/plain": [
       "(675, 27)"
      ]
     },
     "execution_count": 12,
     "metadata": {},
     "output_type": "execute_result"
    }
   ],
   "source": [
    "reg_df.shape"
   ]
  },
  {
   "cell_type": "markdown",
   "metadata": {},
   "source": [
    "**Use the functions above to create special columns for multinational, executive, and gender identity of response...**"
   ]
  },
  {
   "cell_type": "code",
   "execution_count": 13,
   "metadata": {},
   "outputs": [],
   "source": [
    "reg_df = create_multinational_column(in_df = reg_df)\n",
    "reg_df = create_executive_column(in_df = reg_df)\n",
    "reg_df = create_male_column(in_df = reg_df)"
   ]
  },
  {
   "cell_type": "code",
   "execution_count": 14,
   "metadata": {},
   "outputs": [
    {
     "data": {
      "text/plain": [
       "(675, 27)"
      ]
     },
     "execution_count": 14,
     "metadata": {},
     "output_type": "execute_result"
    }
   ],
   "source": [
    "reg_df.shape"
   ]
  },
  {
   "cell_type": "markdown",
   "metadata": {},
   "source": [
    "**Create dummy columns in your standardized way, only keeping an effect for the least frequent response of each type**"
   ]
  },
  {
   "cell_type": "code",
   "execution_count": 15,
   "metadata": {},
   "outputs": [
    {
     "name": "stdout",
     "output_type": "stream",
     "text": [
      "\tRemoving level empFunc_Design from coding for Which business function best describes your core responsibility?\n",
      "\tRemoving level bizSize_Sole proprietor from coding for What best describes your company size?\n",
      "\tRemoving level buildCapability_I’m responsible for training people on a new software from coding for What best describes your role in building capabilities within your organization?  Select the most relevant.\n",
      "\tRemoving level bizStrategy_Other from coding for Which of the following statements best describes your company’s strategy today?\n",
      "\tRemoving level budgetCategory_Other from coding for What type of budget might you use for a solution similar to that of the concept \"Learn While Doing?\" - Selected Choice\n",
      "\tRemoving level purchaseRole_I’d approve the purchase for my entire organization from coding for What would best describe your involvement in the purchase process of a solution similar to that of the concept \"Learn While Doing?\"\n",
      "\tRemoving level empAge_18-21 from coding for What is your age?\n",
      "\tRemoving level manageSituation_I do not manage people from coding for Which statement best describes your current management situation?\n",
      "\tRemoving level edLevel_High School or equivalent from coding for What best describes your highest level of education?\n",
      "\tRemoving level salaryRange_$275,000 - 299,999 from coding for What is your base salary range before bonus or taxes?\n",
      "\tRemoving level directReports_1 from coding for How many people directly report to you?\n",
      "\tRemoving level region_West from coding for What region do you live in?\n"
     ]
    }
   ],
   "source": [
    "for code_column, prefix in STANDARD_DUMMY_COLS.items():\n",
    "    reg_df = add_dummmies_to_df(in_df = reg_df, \n",
    "                                col_to_code = code_column,\n",
    "                                coding_prefix = prefix)"
   ]
  },
  {
   "cell_type": "code",
   "execution_count": 16,
   "metadata": {},
   "outputs": [
    {
     "data": {
      "text/plain": [
       "(675, 80)"
      ]
     },
     "execution_count": 16,
     "metadata": {},
     "output_type": "execute_result"
    }
   ],
   "source": [
    "reg_df.shape"
   ]
  },
  {
   "cell_type": "markdown",
   "metadata": {},
   "source": [
    "**Create custom columns for the clusters that Nathan and Isabella specified:** this uses and then gets rid of the `label` column"
   ]
  },
  {
   "cell_type": "code",
   "execution_count": 17,
   "metadata": {},
   "outputs": [],
   "source": [
    "reg_df = add_cluster_columns(in_df = reg_df)"
   ]
  },
  {
   "cell_type": "code",
   "execution_count": 18,
   "metadata": {},
   "outputs": [
    {
     "data": {
      "text/plain": [
       "(675, 82)"
      ]
     },
     "execution_count": 18,
     "metadata": {},
     "output_type": "execute_result"
    }
   ],
   "source": [
    "reg_df.shape"
   ]
  },
  {
   "cell_type": "markdown",
   "metadata": {},
   "source": [
    "**Finally, drop out people with a `fit_statistic` lower than 0.39:** Apparently this is what sawtooth recommends when looking at utilities. I also think that Alla may have already taken this step when creating this file..."
   ]
  },
  {
   "cell_type": "code",
   "execution_count": 21,
   "metadata": {},
   "outputs": [
    {
     "data": {
      "text/plain": [
       "(675, 81)"
      ]
     },
     "execution_count": 21,
     "metadata": {},
     "output_type": "execute_result"
    }
   ],
   "source": [
    "reg_df = reg_df.loc[(reg_df[\"Fit Statistic\"] > 0.39)]\n",
    "reg_df.drop(labels = \"Fit Statistic\", axis = 1, inplace = True)\n",
    "reg_df.shape"
   ]
  },
  {
   "cell_type": "markdown",
   "metadata": {},
   "source": [
    "**OK,** so the only extraneous columns at this point are the value prop columns related to the target."
   ]
  },
  {
   "cell_type": "code",
   "execution_count": 22,
   "metadata": {},
   "outputs": [
    {
     "name": "stdout",
     "output_type": "stream",
     "text": [
      "[\"Equip your workforce with modern skills while solving your organization's \"\n",
      " 'top strategic challenges',\n",
      " 'Build new capabilities while doing the work that matters to your team',\n",
      " \"Hone your team's ability to continually experiment and build on the \"\n",
      " 'resulting knowledge',\n",
      " 'Equip teams with the tools and mindset to solve problems independently',\n",
      " 'Stay ahead of industry disruption by fostering an agile, resilient '\n",
      " 'organizational culture',\n",
      " 'Lead your organization through a digital transformation',\n",
      " 'Cultivate shared processes and mindsets so your team can achieve better '\n",
      " 'results',\n",
      " 'Develop customer-centered skills to repeatedly build products, services, and '\n",
      " 'experiences that appeal to your target audience',\n",
      " 'Help employees develop customer-centered skills while working towards '\n",
      " 'company strategy',\n",
      " 'Scale new processes and methodologies across your organization with tools '\n",
      " 'every team will find valuable',\n",
      " 'is_multinational',\n",
      " 'is_executive',\n",
      " 'is_male',\n",
      " 'empFunc_Engineering',\n",
      " 'empFunc_Finance',\n",
      " 'empFunc_Innovation',\n",
      " 'empFunc_Marketing',\n",
      " 'empFunc_Operations',\n",
      " 'empFunc_Sales',\n",
      " 'empFunc_Strategy',\n",
      " 'bizSize_10,0000-100,000 employees',\n",
      " 'bizSize_100,000+ employees',\n",
      " 'bizSize_1000-10,000 employees',\n",
      " 'bizSize_250-1000 employees',\n",
      " 'bizSize_50-250 employees',\n",
      " 'buildCapability_I want my team to learn and adopt new ways of working',\n",
      " 'buildCapability_I want to better prepare my team to deliver on our strategic '\n",
      " 'goals',\n",
      " 'buildCapability_I was hired because my skill set represents what the '\n",
      " 'organization is trying to build',\n",
      " 'buildCapability_I’m not responsible for building any type of capabilities',\n",
      " 'buildCapability_I’m responsible for reskilling or upskilling a group of '\n",
      " 'employees',\n",
      " 'buildCapability_I’m responsible for scaling new capabilities across the '\n",
      " 'organization',\n",
      " 'bizStrategy_Become more agile',\n",
      " 'bizStrategy_Build a culture of innovation internally',\n",
      " 'bizStrategy_Complete digital transformation',\n",
      " 'bizStrategy_Deliver value to customers',\n",
      " 'bizStrategy_Find a competitive edge',\n",
      " 'bizStrategy_Pursue a new business model',\n",
      " 'bizStrategy_Stay ahead of industry disruption',\n",
      " 'bizStrategy_Upskill or reskill the workforce',\n",
      " 'budgetCategory_Business Unit Miscellaneous',\n",
      " 'budgetCategory_Employee reimbursement',\n",
      " 'budgetCategory_IT',\n",
      " 'budgetCategory_Learning and Development',\n",
      " 'budgetCategory_Line Item on Your Budget',\n",
      " 'purchaseRole_I’d approve the purchase for my team',\n",
      " 'purchaseRole_I’d make a request or recommendation to senior management',\n",
      " 'purchaseRole_I’d test and provide feedback on the service',\n",
      " 'empAge_22-29',\n",
      " 'empAge_30-39',\n",
      " 'empAge_40-49',\n",
      " 'empAge_50-59',\n",
      " 'empAge_60+',\n",
      " 'manageSituation_I manage a few individuals within my team or as outside '\n",
      " 'contractors',\n",
      " 'manageSituation_I manage a single department within my organization',\n",
      " 'manageSituation_I manage more than one department within my organization',\n",
      " 'manageSituation_I manage my organization',\n",
      " 'edLevel_MBA',\n",
      " 'edLevel_Master’s',\n",
      " 'edLevel_PhD',\n",
      " 'edLevel_Some college',\n",
      " 'edLevel_Undergraduate',\n",
      " 'salaryRange_$100,000 - 124,999',\n",
      " 'salaryRange_$125,000 - 149,999',\n",
      " 'salaryRange_$150,000 - 174,999',\n",
      " 'salaryRange_$175,000 - 199,999',\n",
      " 'salaryRange_$200,000 - 224,999',\n",
      " 'salaryRange_$225,000 - 249,999',\n",
      " 'salaryRange_$250,000 - 274,999',\n",
      " 'salaryRange_$50,000 - 74,999',\n",
      " 'salaryRange_$75,000 - 99,999',\n",
      " 'salaryRange_Less than $50,000',\n",
      " 'salaryRange_More than $300,000',\n",
      " 'directReports_10+',\n",
      " 'directReports_2-5',\n",
      " 'directReports_6-10',\n",
      " 'region_Midwest',\n",
      " 'region_Northeast',\n",
      " 'region_South',\n",
      " 'clust_zeroAndOne',\n",
      " 'clust_eight',\n",
      " 'clust_sixAndNine']\n"
     ]
    }
   ],
   "source": [
    "pprint(reg_df.columns.tolist())"
   ]
  },
  {
   "cell_type": "markdown",
   "metadata": {},
   "source": [
    "## Making a Target Variable"
   ]
  },
  {
   "cell_type": "markdown",
   "metadata": {},
   "source": []
  },
  {
   "cell_type": "markdown",
   "metadata": {},
   "source": [
    "Do other aggregate scores exhibit enough variance to be an interesting regressor?"
   ]
  },
  {
   "cell_type": "code",
   "execution_count": null,
   "metadata": {},
   "outputs": [],
   "source": [
    "base_df[utility_score_cols].min(axis = 1).describe()"
   ]
  },
  {
   "cell_type": "code",
   "execution_count": null,
   "metadata": {},
   "outputs": [],
   "source": [
    "base_df[utility_score_cols].median(axis = 1).describe()"
   ]
  },
  {
   "cell_type": "code",
   "execution_count": null,
   "metadata": {},
   "outputs": [],
   "source": [
    "base_df[utility_score_cols].max(axis = 1).describe()"
   ]
  },
  {
   "cell_type": "code",
   "execution_count": null,
   "metadata": {},
   "outputs": [],
   "source": [
    "base_df[utility_score_cols].mean(axis=1).describe()"
   ]
  },
  {
   "cell_type": "code",
   "execution_count": null,
   "metadata": {},
   "outputs": [],
   "source": [
    "base_df[\"vp_max_utility\"] = base_df[utility_score_cols].idxmax(axis = 1)\n",
    "base_df[\"vp_max_utility\"].value_counts()"
   ]
  },
  {
   "cell_type": "code",
   "execution_count": null,
   "metadata": {},
   "outputs": [],
   "source": [
    "base_df[\"Unnamed: 0\"].head(5)"
   ]
  },
  {
   "cell_type": "code",
   "execution_count": null,
   "metadata": {},
   "outputs": [],
   "source": []
  }
 ],
 "metadata": {
  "kernelspec": {
   "display_name": "Python 3",
   "language": "python",
   "name": "python3"
  },
  "language_info": {
   "codemirror_mode": {
    "name": "ipython",
    "version": 3
   },
   "file_extension": ".py",
   "mimetype": "text/x-python",
   "name": "python",
   "nbconvert_exporter": "python",
   "pygments_lexer": "ipython3",
   "version": "3.6.10"
  }
 },
 "nbformat": 4,
 "nbformat_minor": 4
}
