{
 "cells": [
  {
   "cell_type": "code",
   "execution_count": 1,
   "metadata": {},
   "outputs": [],
   "source": [
    "import pandas as pd\n",
    "import pathlib\n",
    "import seaborn as sns\n",
    "\n",
    "from matplotlib import pyplot as plt\n",
    "from pprint import pprint\n",
    "\n",
    "from settings import (BASE_CSV_PATH, QUALTRICS_DROP_COLS, SKIP_COLS, \n",
    "                      MULTISELECT_COLS, AGREE_DISAGREE_COLS, IMPORTANCE_COLS, \n",
    "                      STANDARD_DUMMY_COLS, UTILITY_SCORE_COLS)"
   ]
  },
  {
   "cell_type": "code",
   "execution_count": 2,
   "metadata": {},
   "outputs": [
    {
     "data": {
      "text/plain": [
       "(675, 139)"
      ]
     },
     "execution_count": 2,
     "metadata": {},
     "output_type": "execute_result"
    }
   ],
   "source": [
    "base_df = pd.read_csv(BASE_CSV_PATH)\n",
    "base_df.shape"
   ]
  },
  {
   "cell_type": "markdown",
   "metadata": {},
   "source": [
    "Only 675 responses, I assume?"
   ]
  },
  {
   "cell_type": "markdown",
   "metadata": {},
   "source": [
    "## Pre-processing functions"
   ]
  },
  {
   "cell_type": "code",
   "execution_count": 3,
   "metadata": {},
   "outputs": [],
   "source": [
    "def drop_utility_question_columns(in_df):\n",
    "    out_df = in_df.copy()\n",
    "    util_cols = [c for c in in_df.columns if \"(This leaves 1 choice\" in c]\n",
    "    return out_df.drop(labels = util_cols, axis = 1)"
   ]
  },
  {
   "cell_type": "code",
   "execution_count": 4,
   "metadata": {},
   "outputs": [],
   "source": [
    "def create_multinational_column(in_df, op_column = \"Where does your organization have offices\", \n",
    "                                null_fill = \"\"):\n",
    "    out_df = in_df.copy()\n",
    "    out_df[\"is_multinational\"] = out_df[op_column].fillna(null_fill)\n",
    "    out_df[\"is_multinational\"] = out_df.is_multinational.str.contains(\"Multi\")\n",
    "    out_df[\"is_multinational\"] = out_df.is_multinational.astype(int)\n",
    "    return out_df.drop(labels = op_column, axis = 1)"
   ]
  },
  {
   "cell_type": "code",
   "execution_count": 5,
   "metadata": {},
   "outputs": [],
   "source": [
    "def create_executive_column(in_df, op_column = \"What is your seniority level?\", \n",
    "                                null_fill = \"\"):\n",
    "    out_df = in_df.copy()\n",
    "    out_df[\"is_executive\"] = out_df[op_column].fillna(null_fill)\n",
    "    out_df[\"is_executive\"] = out_df.is_executive.str.contains(\"Exec\")\n",
    "    out_df[\"is_executive\"] = out_df.is_executive.astype(int)\n",
    "    return out_df.drop(labels = op_column, axis = 1)"
   ]
  },
  {
   "cell_type": "code",
   "execution_count": 6,
   "metadata": {},
   "outputs": [],
   "source": [
    "def create_male_column(in_df, op_column = \"What best describes your gender?\", \n",
    "                                null_fill = \"\"):\n",
    "    out_df = in_df.copy()\n",
    "    out_df[\"is_male\"] = out_df[op_column].fillna(null_fill)\n",
    "    out_df[\"is_male\"] = out_df.is_male.str.contains(\"Male\")\n",
    "    out_df[\"is_male\"] = out_df.is_male.astype(int)\n",
    "    return out_df.drop(labels = op_column, axis = 1)"
   ]
  },
  {
   "cell_type": "code",
   "execution_count": 7,
   "metadata": {},
   "outputs": [],
   "source": [
    "def add_cluster_columns(in_df, op_column = \"labels\"):\n",
    "    out_df = in_df.copy()\n",
    "    out_df[\"clust_zeroAndOne\"] = [1 if v in [0,1] else 0 for v in in_df[op_column]]\n",
    "    out_df[\"clust_eight\"] = [1 if v == 8 else 0 for v in in_df[op_column]]\n",
    "    out_df[\"clust_sixAndNine\"] = [1 if v in [6,9] else 0 for v in in_df[op_column]]\n",
    "    return out_df.drop(labels = op_column, axis = 1)"
   ]
  },
  {
   "cell_type": "code",
   "execution_count": 8,
   "metadata": {},
   "outputs": [],
   "source": [
    "def add_dummmies_to_df(in_df, col_to_code, coding_prefix, prefix_sep = \"_\"):\n",
    "    ''' Will work for naively dropping levels where there's no specific meaning to\n",
    "    the effect and it's just belonging to a category\n",
    "    \n",
    "    I may need to handle the 'agree - disagree' columns separately...\n",
    "    '''\n",
    "    level_count = in_df[col_to_code].nunique()\n",
    "    if level_count < 3:\n",
    "        print(f\"\\tColumn {col_to_code} only has {level_count} levels...\")\n",
    "        print(f\"\\tReturning unmodified df\")\n",
    "        return in_df\n",
    "    dummy_df = pd.get_dummies(data = in_df[col_to_code], \n",
    "                              prefix = coding_prefix, \n",
    "                              prefix_sep = prefix_sep)\n",
    "    dummy_cols = dummy_df.columns.tolist()\n",
    "    drop_col_index = dummy_df.sum().argmin()\n",
    "    drop_col = dummy_cols[drop_col_index]\n",
    "    print(f\"\\tRemoving level {drop_col} from coding for {col_to_code}\")\n",
    "    dummy_df.drop(labels = drop_col, axis = 1, inplace = True)\n",
    "    out_df = in_df.join(dummy_df, how = \"inner\")\n",
    "    return out_df.drop(labels = col_to_code, axis = 1)"
   ]
  },
  {
   "cell_type": "markdown",
   "metadata": {},
   "source": [
    "## Preprocessing Steps"
   ]
  },
  {
   "cell_type": "markdown",
   "metadata": {},
   "source": [
    "**Remove columns that are component ingredients for the overall utility scores:** Any column with `(This leaves 1 choice` can be dropped off, just because these are the component ingredients for the overall utilities."
   ]
  },
  {
   "cell_type": "code",
   "execution_count": 9,
   "metadata": {},
   "outputs": [],
   "source": [
    "reg_df = drop_utility_question_columns(in_df = base_df)"
   ]
  },
  {
   "cell_type": "code",
   "execution_count": 10,
   "metadata": {},
   "outputs": [
    {
     "data": {
      "text/plain": [
       "(675, 96)"
      ]
     },
     "execution_count": 10,
     "metadata": {},
     "output_type": "execute_result"
    }
   ],
   "source": [
    "reg_df.shape"
   ]
  },
  {
   "cell_type": "markdown",
   "metadata": {},
   "source": [
    "**Remove columns that you haven't figured out how to fully deal with yet**"
   ]
  },
  {
   "cell_type": "code",
   "execution_count": 11,
   "metadata": {},
   "outputs": [],
   "source": [
    "for column_group in [QUALTRICS_DROP_COLS, SKIP_COLS, MULTISELECT_COLS, AGREE_DISAGREE_COLS, IMPORTANCE_COLS]:\n",
    "    reg_df.drop(labels = column_group, axis = 1, inplace = True)"
   ]
  },
  {
   "cell_type": "code",
   "execution_count": 12,
   "metadata": {},
   "outputs": [
    {
     "data": {
      "text/plain": [
       "(675, 27)"
      ]
     },
     "execution_count": 12,
     "metadata": {},
     "output_type": "execute_result"
    }
   ],
   "source": [
    "reg_df.shape"
   ]
  },
  {
   "cell_type": "markdown",
   "metadata": {},
   "source": [
    "**Use the functions above to create special columns for multinational, executive, and gender identity of response...**"
   ]
  },
  {
   "cell_type": "code",
   "execution_count": 13,
   "metadata": {},
   "outputs": [],
   "source": [
    "reg_df = create_multinational_column(in_df = reg_df)\n",
    "reg_df = create_executive_column(in_df = reg_df)\n",
    "reg_df = create_male_column(in_df = reg_df)"
   ]
  },
  {
   "cell_type": "code",
   "execution_count": 14,
   "metadata": {},
   "outputs": [
    {
     "data": {
      "text/plain": [
       "(675, 27)"
      ]
     },
     "execution_count": 14,
     "metadata": {},
     "output_type": "execute_result"
    }
   ],
   "source": [
    "reg_df.shape"
   ]
  },
  {
   "cell_type": "markdown",
   "metadata": {},
   "source": [
    "**Create dummy columns in your standardized way, only keeping an effect for the least frequent response of each type**"
   ]
  },
  {
   "cell_type": "code",
   "execution_count": 15,
   "metadata": {},
   "outputs": [
    {
     "name": "stdout",
     "output_type": "stream",
     "text": [
      "\tRemoving level empFunc_Design from coding for Which business function best describes your core responsibility?\n",
      "\tRemoving level bizSize_Sole proprietor from coding for What best describes your company size?\n",
      "\tRemoving level buildCapability_I’m responsible for training people on a new software from coding for What best describes your role in building capabilities within your organization?  Select the most relevant.\n",
      "\tRemoving level bizStrategy_Other from coding for Which of the following statements best describes your company’s strategy today?\n",
      "\tRemoving level budgetCategory_Other from coding for What type of budget might you use for a solution similar to that of the concept \"Learn While Doing?\" - Selected Choice\n",
      "\tRemoving level purchaseRole_I’d approve the purchase for my entire organization from coding for What would best describe your involvement in the purchase process of a solution similar to that of the concept \"Learn While Doing?\"\n",
      "\tRemoving level empAge_18-21 from coding for What is your age?\n",
      "\tRemoving level manageSituation_I do not manage people from coding for Which statement best describes your current management situation?\n",
      "\tRemoving level edLevel_High School or equivalent from coding for What best describes your highest level of education?\n",
      "\tRemoving level salaryRange_$275,000 - 299,999 from coding for What is your base salary range before bonus or taxes?\n",
      "\tRemoving level directReports_1 from coding for How many people directly report to you?\n",
      "\tRemoving level region_West from coding for What region do you live in?\n"
     ]
    }
   ],
   "source": [
    "for code_column, prefix in STANDARD_DUMMY_COLS.items():\n",
    "    reg_df = add_dummmies_to_df(in_df = reg_df, \n",
    "                                col_to_code = code_column,\n",
    "                                coding_prefix = prefix)"
   ]
  },
  {
   "cell_type": "code",
   "execution_count": 16,
   "metadata": {},
   "outputs": [
    {
     "data": {
      "text/plain": [
       "(675, 80)"
      ]
     },
     "execution_count": 16,
     "metadata": {},
     "output_type": "execute_result"
    }
   ],
   "source": [
    "reg_df.shape"
   ]
  },
  {
   "cell_type": "markdown",
   "metadata": {},
   "source": [
    "**Create custom columns for the clusters that Nathan and Isabella specified:** this uses and then gets rid of the `label` column"
   ]
  },
  {
   "cell_type": "code",
   "execution_count": 17,
   "metadata": {},
   "outputs": [],
   "source": [
    "reg_df = add_cluster_columns(in_df = reg_df)"
   ]
  },
  {
   "cell_type": "code",
   "execution_count": 18,
   "metadata": {},
   "outputs": [
    {
     "data": {
      "text/plain": [
       "(675, 82)"
      ]
     },
     "execution_count": 18,
     "metadata": {},
     "output_type": "execute_result"
    }
   ],
   "source": [
    "reg_df.shape"
   ]
  },
  {
   "cell_type": "markdown",
   "metadata": {},
   "source": [
    "**Finally, drop out people with a `fit_statistic` lower than 0.39:** Apparently this is what sawtooth recommends when looking at utilities. I also think that Alla may have already taken this step when creating this file..."
   ]
  },
  {
   "cell_type": "code",
   "execution_count": 19,
   "metadata": {},
   "outputs": [
    {
     "data": {
      "text/plain": [
       "(675, 81)"
      ]
     },
     "execution_count": 19,
     "metadata": {},
     "output_type": "execute_result"
    }
   ],
   "source": [
    "reg_df = reg_df.loc[(reg_df[\"Fit Statistic\"] > 0.39)]\n",
    "reg_df.drop(labels = \"Fit Statistic\", axis = 1, inplace = True)\n",
    "reg_df.shape"
   ]
  },
  {
   "cell_type": "markdown",
   "metadata": {},
   "source": [
    "**OK,** so the only extraneous columns at this point are the value prop columns related to the target."
   ]
  },
  {
   "cell_type": "code",
   "execution_count": 20,
   "metadata": {},
   "outputs": [
    {
     "name": "stdout",
     "output_type": "stream",
     "text": [
      "[\"Equip your workforce with modern skills while solving your organization's \"\n",
      " 'top strategic challenges',\n",
      " 'Build new capabilities while doing the work that matters to your team',\n",
      " \"Hone your team's ability to continually experiment and build on the \"\n",
      " 'resulting knowledge',\n",
      " 'Equip teams with the tools and mindset to solve problems independently',\n",
      " 'Stay ahead of industry disruption by fostering an agile, resilient '\n",
      " 'organizational culture',\n",
      " 'Lead your organization through a digital transformation',\n",
      " 'Cultivate shared processes and mindsets so your team can achieve better '\n",
      " 'results',\n",
      " 'Develop customer-centered skills to repeatedly build products, services, and '\n",
      " 'experiences that appeal to your target audience',\n",
      " 'Help employees develop customer-centered skills while working towards '\n",
      " 'company strategy',\n",
      " 'Scale new processes and methodologies across your organization with tools '\n",
      " 'every team will find valuable',\n",
      " 'is_multinational',\n",
      " 'is_executive',\n",
      " 'is_male',\n",
      " 'empFunc_Engineering',\n",
      " 'empFunc_Finance',\n",
      " 'empFunc_Innovation',\n",
      " 'empFunc_Marketing',\n",
      " 'empFunc_Operations',\n",
      " 'empFunc_Sales',\n",
      " 'empFunc_Strategy',\n",
      " 'bizSize_10,0000-100,000 employees',\n",
      " 'bizSize_100,000+ employees',\n",
      " 'bizSize_1000-10,000 employees',\n",
      " 'bizSize_250-1000 employees',\n",
      " 'bizSize_50-250 employees',\n",
      " 'buildCapability_I want my team to learn and adopt new ways of working',\n",
      " 'buildCapability_I want to better prepare my team to deliver on our strategic '\n",
      " 'goals',\n",
      " 'buildCapability_I was hired because my skill set represents what the '\n",
      " 'organization is trying to build',\n",
      " 'buildCapability_I’m not responsible for building any type of capabilities',\n",
      " 'buildCapability_I’m responsible for reskilling or upskilling a group of '\n",
      " 'employees',\n",
      " 'buildCapability_I’m responsible for scaling new capabilities across the '\n",
      " 'organization',\n",
      " 'bizStrategy_Become more agile',\n",
      " 'bizStrategy_Build a culture of innovation internally',\n",
      " 'bizStrategy_Complete digital transformation',\n",
      " 'bizStrategy_Deliver value to customers',\n",
      " 'bizStrategy_Find a competitive edge',\n",
      " 'bizStrategy_Pursue a new business model',\n",
      " 'bizStrategy_Stay ahead of industry disruption',\n",
      " 'bizStrategy_Upskill or reskill the workforce',\n",
      " 'budgetCategory_Business Unit Miscellaneous',\n",
      " 'budgetCategory_Employee reimbursement',\n",
      " 'budgetCategory_IT',\n",
      " 'budgetCategory_Learning and Development',\n",
      " 'budgetCategory_Line Item on Your Budget',\n",
      " 'purchaseRole_I’d approve the purchase for my team',\n",
      " 'purchaseRole_I’d make a request or recommendation to senior management',\n",
      " 'purchaseRole_I’d test and provide feedback on the service',\n",
      " 'empAge_22-29',\n",
      " 'empAge_30-39',\n",
      " 'empAge_40-49',\n",
      " 'empAge_50-59',\n",
      " 'empAge_60+',\n",
      " 'manageSituation_I manage a few individuals within my team or as outside '\n",
      " 'contractors',\n",
      " 'manageSituation_I manage a single department within my organization',\n",
      " 'manageSituation_I manage more than one department within my organization',\n",
      " 'manageSituation_I manage my organization',\n",
      " 'edLevel_MBA',\n",
      " 'edLevel_Master’s',\n",
      " 'edLevel_PhD',\n",
      " 'edLevel_Some college',\n",
      " 'edLevel_Undergraduate',\n",
      " 'salaryRange_$100,000 - 124,999',\n",
      " 'salaryRange_$125,000 - 149,999',\n",
      " 'salaryRange_$150,000 - 174,999',\n",
      " 'salaryRange_$175,000 - 199,999',\n",
      " 'salaryRange_$200,000 - 224,999',\n",
      " 'salaryRange_$225,000 - 249,999',\n",
      " 'salaryRange_$250,000 - 274,999',\n",
      " 'salaryRange_$50,000 - 74,999',\n",
      " 'salaryRange_$75,000 - 99,999',\n",
      " 'salaryRange_Less than $50,000',\n",
      " 'salaryRange_More than $300,000',\n",
      " 'directReports_10+',\n",
      " 'directReports_2-5',\n",
      " 'directReports_6-10',\n",
      " 'region_Midwest',\n",
      " 'region_Northeast',\n",
      " 'region_South',\n",
      " 'clust_zeroAndOne',\n",
      " 'clust_eight',\n",
      " 'clust_sixAndNine']\n"
     ]
    }
   ],
   "source": [
    "pprint(reg_df.columns.tolist())"
   ]
  },
  {
   "cell_type": "markdown",
   "metadata": {},
   "source": [
    "## Making a Target Variable"
   ]
  },
  {
   "cell_type": "markdown",
   "metadata": {},
   "source": [
    "The only other features we may want to create are **which** of the 10 value propositions the person rated _most_ or _least_ desireable..\n",
    "\n",
    "And which of those columns we want to keep depends on whether we're regressing against max utility or min utility."
   ]
  },
  {
   "cell_type": "code",
   "execution_count": 21,
   "metadata": {},
   "outputs": [
    {
     "data": {
      "text/plain": [
       "(675,)"
      ]
     },
     "execution_count": 21,
     "metadata": {},
     "output_type": "execute_result"
    }
   ],
   "source": [
    "max_utility_scores = reg_df[UTILITY_SCORE_COLS].max(axis = 1)\n",
    "max_utility_scores.shape"
   ]
  },
  {
   "cell_type": "markdown",
   "metadata": {},
   "source": [
    "This is the target variable for the maximum utility score..."
   ]
  },
  {
   "cell_type": "code",
   "execution_count": 22,
   "metadata": {},
   "outputs": [
    {
     "data": {
      "text/plain": [
       "count    675.000000\n",
       "mean      20.696342\n",
       "std        1.873814\n",
       "min       14.738210\n",
       "25%       19.558480\n",
       "50%       20.758560\n",
       "75%       22.047345\n",
       "max       25.626480\n",
       "dtype: float64"
      ]
     },
     "execution_count": 22,
     "metadata": {},
     "output_type": "execute_result"
    }
   ],
   "source": [
    "max_utility_scores.describe()"
   ]
  },
  {
   "cell_type": "code",
   "execution_count": 23,
   "metadata": {},
   "outputs": [],
   "source": [
    "util_score_df = reg_df[UTILITY_SCORE_COLS].copy()"
   ]
  },
  {
   "cell_type": "code",
   "execution_count": 24,
   "metadata": {},
   "outputs": [
    {
     "data": {
      "text/html": [
       "<div>\n",
       "<style scoped>\n",
       "    .dataframe tbody tr th:only-of-type {\n",
       "        vertical-align: middle;\n",
       "    }\n",
       "\n",
       "    .dataframe tbody tr th {\n",
       "        vertical-align: top;\n",
       "    }\n",
       "\n",
       "    .dataframe thead th {\n",
       "        text-align: right;\n",
       "    }\n",
       "</style>\n",
       "<table border=\"1\" class=\"dataframe\">\n",
       "  <thead>\n",
       "    <tr style=\"text-align: right;\">\n",
       "      <th></th>\n",
       "      <th>maxUtility</th>\n",
       "    </tr>\n",
       "  </thead>\n",
       "  <tbody>\n",
       "    <tr>\n",
       "      <th>0</th>\n",
       "      <td>Help employees develop customer-centered skill...</td>\n",
       "    </tr>\n",
       "    <tr>\n",
       "      <th>1</th>\n",
       "      <td>Equip teams with the tools and mindset to solv...</td>\n",
       "    </tr>\n",
       "    <tr>\n",
       "      <th>2</th>\n",
       "      <td>Develop customer-centered skills to repeatedly...</td>\n",
       "    </tr>\n",
       "    <tr>\n",
       "      <th>3</th>\n",
       "      <td>Equip teams with the tools and mindset to solv...</td>\n",
       "    </tr>\n",
       "    <tr>\n",
       "      <th>4</th>\n",
       "      <td>Cultivate shared processes and mindsets so you...</td>\n",
       "    </tr>\n",
       "    <tr>\n",
       "      <th>...</th>\n",
       "      <td>...</td>\n",
       "    </tr>\n",
       "    <tr>\n",
       "      <th>670</th>\n",
       "      <td>Hone your team's ability to continually experi...</td>\n",
       "    </tr>\n",
       "    <tr>\n",
       "      <th>671</th>\n",
       "      <td>Scale new processes and methodologies across y...</td>\n",
       "    </tr>\n",
       "    <tr>\n",
       "      <th>672</th>\n",
       "      <td>Develop customer-centered skills to repeatedly...</td>\n",
       "    </tr>\n",
       "    <tr>\n",
       "      <th>673</th>\n",
       "      <td>Develop customer-centered skills to repeatedly...</td>\n",
       "    </tr>\n",
       "    <tr>\n",
       "      <th>674</th>\n",
       "      <td>Scale new processes and methodologies across y...</td>\n",
       "    </tr>\n",
       "  </tbody>\n",
       "</table>\n",
       "<p>675 rows × 1 columns</p>\n",
       "</div>"
      ],
      "text/plain": [
       "                                            maxUtility\n",
       "0    Help employees develop customer-centered skill...\n",
       "1    Equip teams with the tools and mindset to solv...\n",
       "2    Develop customer-centered skills to repeatedly...\n",
       "3    Equip teams with the tools and mindset to solv...\n",
       "4    Cultivate shared processes and mindsets so you...\n",
       "..                                                 ...\n",
       "670  Hone your team's ability to continually experi...\n",
       "671  Scale new processes and methodologies across y...\n",
       "672  Develop customer-centered skills to repeatedly...\n",
       "673  Develop customer-centered skills to repeatedly...\n",
       "674  Scale new processes and methodologies across y...\n",
       "\n",
       "[675 rows x 1 columns]"
      ]
     },
     "execution_count": 24,
     "metadata": {},
     "output_type": "execute_result"
    }
   ],
   "source": [
    "max_utility_vps = util_score_df.idxmax(axis = 1)\n",
    "max_utility_df = pd.DataFrame(data = max_utility_vps, columns = [\"maxUtility\"])\n",
    "max_utility_df"
   ]
  },
  {
   "cell_type": "code",
   "execution_count": 25,
   "metadata": {},
   "outputs": [
    {
     "data": {
      "text/plain": [
       "Develop customer-centered skills to repeatedly build products, services, and experiences that appeal to your target audience    124\n",
       "Lead your organization through a digital transformation                                                                         119\n",
       "Stay ahead of industry disruption by fostering an agile, resilient organizational culture                                        78\n",
       "Hone your team's ability to continually experiment and build on the resulting knowledge                                          63\n",
       "Help employees develop customer-centered skills while working towards company strategy                                           58\n",
       "Equip teams with the tools and mindset to solve problems independently                                                           57\n",
       "Equip your workforce with modern skills while solving your organization's top strategic challenges                               46\n",
       "Scale new processes and methodologies across your organization with tools every team will find valuable                          44\n",
       "Cultivate shared processes and mindsets so your team can achieve better results                                                  44\n",
       "Build new capabilities while doing the work that matters to your team                                                            42\n",
       "Name: maxUtility, dtype: int64"
      ]
     },
     "execution_count": 25,
     "metadata": {},
     "output_type": "execute_result"
    }
   ],
   "source": [
    "max_utility_df[\"maxUtility\"].value_counts()"
   ]
  },
  {
   "cell_type": "code",
   "execution_count": 26,
   "metadata": {},
   "outputs": [
    {
     "name": "stdout",
     "output_type": "stream",
     "text": [
      "\tRemoving level maxUtil_Build new capabilities while doing the work that matters to your team from coding for maxUtility\n"
     ]
    }
   ],
   "source": [
    "max_utility_feats = add_dummmies_to_df(in_df = max_utility_df, col_to_code=\"maxUtility\", coding_prefix=\"maxUtil\")"
   ]
  },
  {
   "cell_type": "code",
   "execution_count": 27,
   "metadata": {},
   "outputs": [
    {
     "data": {
      "text/plain": [
       "(675, 9)"
      ]
     },
     "execution_count": 27,
     "metadata": {},
     "output_type": "execute_result"
    }
   ],
   "source": [
    "max_utility_feats.shape"
   ]
  },
  {
   "cell_type": "code",
   "execution_count": 28,
   "metadata": {},
   "outputs": [
    {
     "data": {
      "text/plain": [
       "(675, 81)"
      ]
     },
     "execution_count": 28,
     "metadata": {},
     "output_type": "execute_result"
    }
   ],
   "source": [
    "reg_df.shape"
   ]
  },
  {
   "cell_type": "code",
   "execution_count": 29,
   "metadata": {},
   "outputs": [
    {
     "data": {
      "text/plain": [
       "10"
      ]
     },
     "execution_count": 29,
     "metadata": {},
     "output_type": "execute_result"
    }
   ],
   "source": [
    "len(UTILITY_SCORE_COLS)"
   ]
  },
  {
   "cell_type": "markdown",
   "metadata": {},
   "source": [
    "So, the resulting `max_utility_feats` df should be 81 - 10 + 9 columns wide, or 80."
   ]
  },
  {
   "cell_type": "code",
   "execution_count": 30,
   "metadata": {},
   "outputs": [],
   "source": [
    "base_feat_cols = [c for c in reg_df.columns if c not in UTILITY_SCORE_COLS]\n",
    "max_utility_feats = max_utility_feats.join(reg_df[base_feat_cols], how = \"inner\")"
   ]
  },
  {
   "cell_type": "code",
   "execution_count": 31,
   "metadata": {},
   "outputs": [
    {
     "data": {
      "text/plain": [
       "(675, 80)"
      ]
     },
     "execution_count": 31,
     "metadata": {},
     "output_type": "execute_result"
    }
   ],
   "source": [
    "max_utility_feats.shape"
   ]
  },
  {
   "cell_type": "markdown",
   "metadata": {},
   "source": [
    "Basically repeating the process above with the minimum percentile score (... more for formality's sake ...)"
   ]
  },
  {
   "cell_type": "code",
   "execution_count": 38,
   "metadata": {},
   "outputs": [
    {
     "data": {
      "text/plain": [
       "(675,)"
      ]
     },
     "execution_count": 38,
     "metadata": {},
     "output_type": "execute_result"
    }
   ],
   "source": [
    "min_utility_scores = reg_df[UTILITY_SCORE_COLS].min(axis = 1)\n",
    "min_utility_scores.shape"
   ]
  },
  {
   "cell_type": "code",
   "execution_count": 39,
   "metadata": {},
   "outputs": [
    {
     "name": "stdout",
     "output_type": "stream",
     "text": [
      "\tRemoving level minUtil_Scale new processes and methodologies across your organization with tools every team will find valuable from coding for minUtility\n"
     ]
    }
   ],
   "source": [
    "min_utility_vps = util_score_df.idxmin(axis = 1)\n",
    "min_utility_df = pd.DataFrame(data = min_utility_vps, columns = [\"minUtility\"])\n",
    "min_utility_feats = add_dummmies_to_df(in_df = min_utility_df, col_to_code=\"minUtility\", coding_prefix=\"minUtil\")\n",
    "min_utility_feats = min_utility_feats.join(reg_df[base_feat_cols], how = \"inner\")"
   ]
  },
  {
   "cell_type": "code",
   "execution_count": 42,
   "metadata": {},
   "outputs": [
    {
     "data": {
      "text/plain": [
       "(675, 80)"
      ]
     },
     "execution_count": 42,
     "metadata": {},
     "output_type": "execute_result"
    }
   ],
   "source": [
    "min_utility_feats.shape"
   ]
  },
  {
   "cell_type": "code",
   "execution_count": 41,
   "metadata": {},
   "outputs": [
    {
     "data": {
      "text/plain": [
       "Lead your organization through a digital transformation                                                                         180\n",
       "Hone your team's ability to continually experiment and build on the resulting knowledge                                         104\n",
       "Stay ahead of industry disruption by fostering an agile, resilient organizational culture                                        68\n",
       "Help employees develop customer-centered skills while working towards company strategy                                           65\n",
       "Cultivate shared processes and mindsets so your team can achieve better results                                                  60\n",
       "Develop customer-centered skills to repeatedly build products, services, and experiences that appeal to your target audience     54\n",
       "Build new capabilities while doing the work that matters to your team                                                            39\n",
       "Equip your workforce with modern skills while solving your organization's top strategic challenges                               36\n",
       "Equip teams with the tools and mindset to solve problems independently                                                           36\n",
       "Scale new processes and methodologies across your organization with tools every team will find valuable                          33\n",
       "Name: minUtility, dtype: int64"
      ]
     },
     "execution_count": 41,
     "metadata": {},
     "output_type": "execute_result"
    }
   ],
   "source": [
    "min_utility_df[\"minUtility\"].value_counts()"
   ]
  },
  {
   "cell_type": "markdown",
   "metadata": {},
   "source": [
    "## Trying a regression..."
   ]
  },
  {
   "cell_type": "code",
   "execution_count": 32,
   "metadata": {},
   "outputs": [],
   "source": [
    "import statsmodels.api as sm"
   ]
  },
  {
   "cell_type": "markdown",
   "metadata": {},
   "source": [
    "Adding a bias term here seems like a good idea..."
   ]
  },
  {
   "cell_type": "code",
   "execution_count": 34,
   "metadata": {},
   "outputs": [],
   "source": [
    "max_utility_feats = sm.add_constant(max_utility_feats)"
   ]
  },
  {
   "cell_type": "code",
   "execution_count": 35,
   "metadata": {},
   "outputs": [],
   "source": [
    "model = sm.OLS(max_utility_scores, max_utility_feats)"
   ]
  },
  {
   "cell_type": "code",
   "execution_count": 36,
   "metadata": {},
   "outputs": [],
   "source": [
    "results = model.fit()"
   ]
  },
  {
   "cell_type": "code",
   "execution_count": 37,
   "metadata": {},
   "outputs": [
    {
     "name": "stdout",
     "output_type": "stream",
     "text": [
      "                            OLS Regression Results                            \n",
      "==============================================================================\n",
      "Dep. Variable:                      y   R-squared:                       0.309\n",
      "Model:                            OLS   Adj. R-squared:                  0.216\n",
      "Method:                 Least Squares   F-statistic:                     3.323\n",
      "Date:                Wed, 01 Jul 2020   Prob (F-statistic):           6.05e-17\n",
      "Time:                        17:27:14   Log-Likelihood:                -1256.3\n",
      "No. Observations:                 675   AIC:                             2675.\n",
      "Df Residuals:                     594   BIC:                             3040.\n",
      "Df Model:                          80                                         \n",
      "Covariance Type:            nonrobust                                         \n",
      "========================================================================================================================================================================================================\n",
      "                                                                                                                                           coef    std err          t      P>|t|      [0.025      0.975]\n",
      "--------------------------------------------------------------------------------------------------------------------------------------------------------------------------------------------------------\n",
      "const                                                                                                                                   18.4365      1.177     15.662      0.000      16.125      20.748\n",
      "maxUtil_Cultivate shared processes and mindsets so your team can achieve better results                                                 -0.2661      0.381     -0.699      0.485      -1.014       0.482\n",
      "maxUtil_Develop customer-centered skills to repeatedly build products, services, and experiences that appeal to your target audience     1.2544      0.321      3.906      0.000       0.624       1.885\n",
      "maxUtil_Equip teams with the tools and mindset to solve problems independently                                                          -0.1705      0.366     -0.467      0.641      -0.888       0.547\n",
      "maxUtil_Equip your workforce with modern skills while solving your organization's top strategic challenges                              -1.2585      0.377     -3.337      0.001      -1.999      -0.518\n",
      "maxUtil_Help employees develop customer-centered skills while working towards company strategy                                          -0.0558      0.361     -0.154      0.877      -0.765       0.654\n",
      "maxUtil_Hone your team's ability to continually experiment and build on the resulting knowledge                                          0.7230      0.350      2.067      0.039       0.036       1.410\n",
      "maxUtil_Lead your organization through a digital transformation                                                                          1.8409      0.316      5.821      0.000       1.220       2.462\n",
      "maxUtil_Scale new processes and methodologies across your organization with tools every team will find valuable                         -0.5887      0.376     -1.566      0.118      -1.327       0.149\n",
      "maxUtil_Stay ahead of industry disruption by fostering an agile, resilient organizational culture                                        0.5601      0.338      1.659      0.098      -0.103       1.223\n",
      "is_multinational                                                                                                                        -0.1308      0.170     -0.769      0.442      -0.465       0.203\n",
      "is_executive                                                                                                                            -0.1235      0.172     -0.720      0.472      -0.460       0.213\n",
      "is_male                                                                                                                                 -0.1844      0.152     -1.217      0.224      -0.482       0.113\n",
      "empFunc_Engineering                                                                                                                     -0.4159      0.406     -1.024      0.306      -1.213       0.382\n",
      "empFunc_Finance                                                                                                                         -0.0239      0.389     -0.061      0.951      -0.788       0.740\n",
      "empFunc_Innovation                                                                                                                      -0.0566      0.440     -0.129      0.898      -0.921       0.808\n",
      "empFunc_Marketing                                                                                                                       -0.2440      0.516     -0.473      0.637      -1.258       0.770\n",
      "empFunc_Operations                                                                                                                       0.0475      0.367      0.129      0.897      -0.674       0.769\n",
      "empFunc_Sales                                                                                                                           -0.1758      0.415     -0.424      0.672      -0.990       0.639\n",
      "empFunc_Strategy                                                                                                                        -0.1646      0.417     -0.395      0.693      -0.984       0.654\n",
      "bizSize_10,0000-100,000 employees                                                                                                        1.3777      1.045      1.319      0.188      -0.674       3.430\n",
      "bizSize_100,000+ employees                                                                                                               1.2293      1.076      1.143      0.254      -0.883       3.342\n",
      "bizSize_1000-10,000 employees                                                                                                            1.2975      1.038      1.250      0.212      -0.741       3.336\n",
      "bizSize_250-1000 employees                                                                                                               1.2487      1.030      1.212      0.226      -0.775       3.272\n",
      "bizSize_50-250 employees                                                                                                                 1.1829      1.033      1.145      0.253      -0.846       3.212\n",
      "buildCapability_I want my team to learn and adopt new ways of working                                                                   -0.0586      0.303     -0.193      0.847      -0.654       0.537\n",
      "buildCapability_I want to better prepare my team to deliver on our strategic goals                                                      -0.4246      0.297     -1.430      0.153      -1.008       0.159\n",
      "buildCapability_I was hired because my skill set represents what the organization is trying to build                                    -0.3328      0.315     -1.057      0.291      -0.951       0.285\n",
      "buildCapability_I’m not responsible for building any type of capabilities                                                               -0.1413      0.340     -0.415      0.678      -0.810       0.527\n",
      "buildCapability_I’m responsible for reskilling or upskilling a group of employees                                                        0.0418      0.331      0.126      0.899      -0.608       0.691\n",
      "buildCapability_I’m responsible for scaling new capabilities across the organization                                                    -0.3258      0.318     -1.024      0.306      -0.951       0.299\n",
      "bizStrategy_Become more agile                                                                                                            0.2682      0.392      0.684      0.494      -0.502       1.038\n",
      "bizStrategy_Build a culture of innovation internally                                                                                     0.0601      0.397      0.151      0.880      -0.720       0.840\n",
      "bizStrategy_Complete digital transformation                                                                                              0.5066      0.389      1.301      0.194      -0.258       1.271\n",
      "bizStrategy_Deliver value to customers                                                                                                   0.2978      0.350      0.851      0.395      -0.390       0.985\n",
      "bizStrategy_Find a competitive edge                                                                                                      0.3827      0.373      1.026      0.305      -0.350       1.115\n",
      "bizStrategy_Pursue a new business model                                                                                                  0.0476      0.452      0.105      0.916      -0.841       0.936\n",
      "bizStrategy_Stay ahead of industry disruption                                                                                            0.5108      0.373      1.371      0.171      -0.221       1.242\n",
      "bizStrategy_Upskill or reskill the workforce                                                                                             0.5263      0.402      1.309      0.191      -0.263       1.316\n",
      "budgetCategory_Business Unit Miscellaneous                                                                                              -0.4709      0.535     -0.880      0.379      -1.522       0.580\n",
      "budgetCategory_Employee reimbursement                                                                                                   -0.4517      0.565     -0.800      0.424      -1.561       0.658\n",
      "budgetCategory_IT                                                                                                                       -0.4054      0.517     -0.784      0.433      -1.421       0.610\n",
      "budgetCategory_Learning and Development                                                                                                  0.0420      0.517      0.081      0.935      -0.974       1.057\n",
      "budgetCategory_Line Item on Your Budget                                                                                                 -0.0300      0.541     -0.055      0.956      -1.092       1.032\n",
      "purchaseRole_I’d approve the purchase for my team                                                                                        0.1995      0.390      0.512      0.609      -0.566       0.965\n",
      "purchaseRole_I’d make a request or recommendation to senior management                                                                   0.0039      0.509      0.008      0.994      -0.996       1.004\n",
      "purchaseRole_I’d test and provide feedback on the service                                                                                0.4064      0.501      0.812      0.417      -0.577       1.389\n",
      "empAge_22-29                                                                                                                             0.6103      0.506      1.205      0.229      -0.384       1.605\n",
      "empAge_30-39                                                                                                                             0.5903      0.440      1.342      0.180      -0.274       1.454\n",
      "empAge_40-49                                                                                                                             0.5704      0.442      1.291      0.197      -0.297       1.438\n",
      "empAge_50-59                                                                                                                             0.6271      0.441      1.423      0.155      -0.239       1.493\n",
      "empAge_60+                                                                                                                               0.5516      0.458      1.204      0.229      -0.348       1.451\n",
      "manageSituation_I manage a few individuals within my team or as outside contractors                                                     -0.0371      0.515     -0.072      0.943      -1.048       0.974\n",
      "manageSituation_I manage a single department within my organization                                                                      0.3731      0.644      0.580      0.562      -0.891       1.637\n",
      "manageSituation_I manage more than one department within my organization                                                                 0.2469      0.679      0.364      0.716      -1.086       1.580\n",
      "manageSituation_I manage my organization                                                                                                -0.2106      0.753     -0.280      0.780      -1.689       1.268\n",
      "edLevel_MBA                                                                                                                             -0.0264      0.426     -0.062      0.951      -0.864       0.811\n",
      "edLevel_Master’s                                                                                                                         0.0225      0.391      0.058      0.954      -0.745       0.790\n",
      "edLevel_PhD                                                                                                                             -0.1340      0.440     -0.305      0.761      -0.998       0.730\n",
      "edLevel_Some college                                                                                                                     0.0198      0.435      0.045      0.964      -0.834       0.874\n",
      "edLevel_Undergraduate                                                                                                                   -0.0496      0.391     -0.127      0.899      -0.817       0.717\n",
      "salaryRange_$100,000 - 124,999                                                                                                           0.0535      0.466      0.115      0.909      -0.862       0.969\n",
      "salaryRange_$125,000 - 149,999                                                                                                           0.1555      0.472      0.330      0.742      -0.771       1.082\n",
      "salaryRange_$150,000 - 174,999                                                                                                           0.1103      0.484      0.228      0.820      -0.839       1.060\n",
      "salaryRange_$175,000 - 199,999                                                                                                           0.2335      0.505      0.463      0.644      -0.758       1.225\n",
      "salaryRange_$200,000 - 224,999                                                                                                          -0.0021      0.534     -0.004      0.997      -1.051       1.046\n",
      "salaryRange_$225,000 - 249,999                                                                                                           0.1743      0.572      0.305      0.760      -0.948       1.297\n",
      "salaryRange_$250,000 - 274,999                                                                                                           0.4438      0.622      0.713      0.476      -0.778       1.666\n",
      "salaryRange_$50,000 - 74,999                                                                                                            -0.1639      0.480     -0.342      0.733      -1.106       0.778\n",
      "salaryRange_$75,000 - 99,999                                                                                                             0.2458      0.455      0.540      0.589      -0.648       1.139\n",
      "salaryRange_Less than $50,000                                                                                                           -0.7220      0.526     -1.372      0.170      -1.755       0.311\n",
      "salaryRange_More than $300,000                                                                                                           0.3811      0.528      0.722      0.471      -0.656       1.418\n",
      "directReports_10+                                                                                                                        0.3049      0.336      0.908      0.364      -0.355       0.965\n",
      "directReports_2-5                                                                                                                        0.0175      0.330      0.053      0.958      -0.631       0.666\n",
      "directReports_6-10                                                                                                                       0.0049      0.337      0.014      0.988      -0.657       0.666\n",
      "region_Midwest                                                                                                                          -0.0877      0.213     -0.413      0.680      -0.505       0.330\n",
      "region_Northeast                                                                                                                        -0.1914      0.211     -0.906      0.365      -0.606       0.223\n",
      "region_South                                                                                                                            -0.2176      0.198     -1.098      0.272      -0.607       0.172\n",
      "clust_zeroAndOne                                                                                                                        -0.2158      0.441     -0.490      0.624      -1.081       0.649\n",
      "clust_eight                                                                                                                             -0.5042      0.463     -1.089      0.277      -1.414       0.405\n",
      "clust_sixAndNine                                                                                                                         0.3135      0.550      0.570      0.569      -0.766       1.393\n",
      "==============================================================================\n",
      "Omnibus:                       95.208   Durbin-Watson:                   2.077\n",
      "Prob(Omnibus):                  0.000   Jarque-Bera (JB):              146.089\n",
      "Skew:                          -0.937   Prob(JB):                     1.89e-32\n",
      "Kurtosis:                       4.297   Cond. No.                         81.0\n",
      "==============================================================================\n",
      "\n",
      "Warnings:\n",
      "[1] Standard Errors assume that the covariance matrix of the errors is correctly specified.\n"
     ]
    }
   ],
   "source": [
    "print(results.summary())"
   ]
  },
  {
   "cell_type": "markdown",
   "metadata": {},
   "source": [
    "Accidentally running this without the bias term added yielded very different results(but admittedly less believable). It may be more useful in this case, but I would need to change variables a bit to **not** drop the k-1 variables. See [these nerds on cross validated](https://stats.stackexchange.com/questions/7948/when-is-it-ok-to-remove-the-intercept-in-a-linear-regression-model#:~:text=If%20your%20response%20variable%20is,to%20leave%20the%20intercept%20in.&text=You%20can%20leave%20out%20the,or%20your%20residuals%20are%20biased.) for more details.\n",
    "\n",
    "**TODO (?)**: experiment with this, because I don't think it would change most of your processing functions _that much?_"
   ]
  },
  {
   "cell_type": "code",
   "execution_count": 43,
   "metadata": {},
   "outputs": [
    {
     "name": "stdout",
     "output_type": "stream",
     "text": [
      "                            OLS Regression Results                            \n",
      "==============================================================================\n",
      "Dep. Variable:                      y   R-squared:                       0.130\n",
      "Model:                            OLS   Adj. R-squared:                  0.013\n",
      "Method:                 Least Squares   F-statistic:                     1.110\n",
      "Date:                Wed, 01 Jul 2020   Prob (F-statistic):              0.252\n",
      "Time:                        18:20:04   Log-Likelihood:                -1334.1\n",
      "No. Observations:                 675   AIC:                             2830.\n",
      "Df Residuals:                     594   BIC:                             3196.\n",
      "Df Model:                          80                                         \n",
      "Covariance Type:            nonrobust                                         \n",
      "========================================================================================================================================================================================================\n",
      "                                                                                                                                           coef    std err          t      P>|t|      [0.025      0.975]\n",
      "--------------------------------------------------------------------------------------------------------------------------------------------------------------------------------------------------------\n",
      "const                                                                                                                                   19.3132      1.332     14.499      0.000      16.697      21.929\n",
      "minUtil_Build new capabilities while doing the work that matters to your team                                                           -0.2221      0.468     -0.475      0.635      -1.141       0.697\n",
      "minUtil_Cultivate shared processes and mindsets so your team can achieve better results                                                 -0.7760      0.431     -1.799      0.073      -1.623       0.071\n",
      "minUtil_Develop customer-centered skills to repeatedly build products, services, and experiences that appeal to your target audience     0.0480      0.440      0.109      0.913      -0.816       0.912\n",
      "minUtil_Equip teams with the tools and mindset to solve problems independently                                                          -0.1026      0.476     -0.216      0.829      -1.038       0.832\n",
      "minUtil_Equip your workforce with modern skills while solving your organization's top strategic challenges                               0.0169      0.471      0.036      0.971      -0.908       0.941\n",
      "minUtil_Help employees develop customer-centered skills while working towards company strategy                                          -0.4983      0.433     -1.151      0.250      -1.348       0.352\n",
      "minUtil_Hone your team's ability to continually experiment and build on the resulting knowledge                                         -0.5053      0.396     -1.275      0.203      -1.283       0.273\n",
      "minUtil_Lead your organization through a digital transformation                                                                         -0.9397      0.385     -2.444      0.015      -1.695      -0.185\n",
      "minUtil_Stay ahead of industry disruption by fostering an agile, resilient organizational culture                                       -0.2673      0.428     -0.624      0.533      -1.109       0.574\n",
      "is_multinational                                                                                                                        -0.1991      0.191     -1.041      0.298      -0.575       0.176\n",
      "is_executive                                                                                                                             0.0035      0.193      0.018      0.986      -0.376       0.383\n",
      "is_male                                                                                                                                 -0.0762      0.170     -0.447      0.655      -0.411       0.258\n",
      "empFunc_Engineering                                                                                                                     -0.7316      0.460     -1.591      0.112      -1.635       0.171\n",
      "empFunc_Finance                                                                                                                         -0.2782      0.436     -0.638      0.524      -1.134       0.578\n",
      "empFunc_Innovation                                                                                                                      -0.5996      0.493     -1.215      0.225      -1.569       0.370\n",
      "empFunc_Marketing                                                                                                                       -0.1463      0.579     -0.253      0.801      -1.284       0.991\n",
      "empFunc_Operations                                                                                                                      -0.1289      0.411     -0.314      0.754      -0.936       0.678\n",
      "empFunc_Sales                                                                                                                           -0.1102      0.468     -0.235      0.814      -1.030       0.810\n",
      "empFunc_Strategy                                                                                                                        -0.6949      0.467     -1.487      0.138      -1.613       0.223\n",
      "bizSize_10,0000-100,000 employees                                                                                                        1.8177      1.170      1.553      0.121      -0.481       4.116\n",
      "bizSize_100,000+ employees                                                                                                               1.6766      1.205      1.392      0.164      -0.689       4.042\n",
      "bizSize_1000-10,000 employees                                                                                                            1.7669      1.162      1.520      0.129      -0.515       4.049\n",
      "bizSize_250-1000 employees                                                                                                               1.5565      1.153      1.350      0.177      -0.708       3.821\n",
      "bizSize_50-250 employees                                                                                                                 1.5352      1.157      1.327      0.185      -0.736       3.807\n",
      "buildCapability_I want my team to learn and adopt new ways of working                                                                   -0.1740      0.341     -0.510      0.610      -0.843       0.495\n",
      "buildCapability_I want to better prepare my team to deliver on our strategic goals                                                      -0.5495      0.334     -1.644      0.101      -1.206       0.107\n",
      "buildCapability_I was hired because my skill set represents what the organization is trying to build                                    -0.3017      0.351     -0.860      0.390      -0.991       0.388\n",
      "buildCapability_I’m not responsible for building any type of capabilities                                                               -0.3233      0.384     -0.842      0.400      -1.077       0.431\n",
      "buildCapability_I’m responsible for reskilling or upskilling a group of employees                                                       -0.0285      0.373     -0.077      0.939      -0.761       0.704\n",
      "buildCapability_I’m responsible for scaling new capabilities across the organization                                                    -0.3547      0.358     -0.991      0.322      -1.058       0.349\n",
      "bizStrategy_Become more agile                                                                                                            0.3622      0.444      0.815      0.415      -0.511       1.235\n",
      "bizStrategy_Build a culture of innovation internally                                                                                    -0.0205      0.445     -0.046      0.963      -0.895       0.854\n",
      "bizStrategy_Complete digital transformation                                                                                              0.7770      0.438      1.773      0.077      -0.084       1.638\n",
      "bizStrategy_Deliver value to customers                                                                                                   0.3772      0.392      0.961      0.337      -0.393       1.148\n",
      "bizStrategy_Find a competitive edge                                                                                                      0.3561      0.420      0.849      0.396      -0.468       1.180\n",
      "bizStrategy_Pursue a new business model                                                                                                  0.1875      0.509      0.368      0.713      -0.813       1.188\n",
      "bizStrategy_Stay ahead of industry disruption                                                                                            0.4702      0.419      1.123      0.262      -0.352       1.292\n",
      "bizStrategy_Upskill or reskill the workforce                                                                                             0.5988      0.454      1.320      0.187      -0.292       1.490\n",
      "budgetCategory_Business Unit Miscellaneous                                                                                              -0.4326      0.600     -0.721      0.471      -1.611       0.746\n",
      "budgetCategory_Employee reimbursement                                                                                                   -0.6676      0.637     -1.047      0.295      -1.920       0.584\n",
      "budgetCategory_IT                                                                                                                       -0.4985      0.584     -0.853      0.394      -1.646       0.649\n",
      "budgetCategory_Learning and Development                                                                                                  0.1708      0.583      0.293      0.770      -0.975       1.316\n",
      "budgetCategory_Line Item on Your Budget                                                                                                  0.0859      0.604      0.142      0.887      -1.101       1.273\n",
      "purchaseRole_I’d approve the purchase for my team                                                                                        0.1203      0.439      0.274      0.784      -0.742       0.983\n",
      "purchaseRole_I’d make a request or recommendation to senior management                                                                   0.0920      0.569      0.162      0.872      -1.026       1.210\n",
      "purchaseRole_I’d test and provide feedback on the service                                                                                0.5369      0.560      0.958      0.338      -0.563       1.637\n",
      "empAge_22-29                                                                                                                             0.5339      0.572      0.933      0.351      -0.590       1.658\n",
      "empAge_30-39                                                                                                                             0.6083      0.497      1.224      0.222      -0.368       1.585\n",
      "empAge_40-49                                                                                                                             0.7411      0.497      1.492      0.136      -0.234       1.717\n",
      "empAge_50-59                                                                                                                             0.7439      0.495      1.504      0.133      -0.227       1.715\n",
      "empAge_60+                                                                                                                               0.6434      0.518      1.241      0.215      -0.375       1.662\n",
      "manageSituation_I manage a few individuals within my team or as outside contractors                                                     -0.2443      0.576     -0.424      0.672      -1.376       0.888\n",
      "manageSituation_I manage a single department within my organization                                                                      0.1774      0.730      0.243      0.808      -1.256       1.611\n",
      "manageSituation_I manage more than one department within my organization                                                                 0.0617      0.769      0.080      0.936      -1.449       1.573\n",
      "manageSituation_I manage my organization                                                                                                -0.3471      0.849     -0.409      0.683      -2.015       1.321\n",
      "edLevel_MBA                                                                                                                              0.1899      0.478      0.397      0.691      -0.749       1.129\n",
      "edLevel_Master’s                                                                                                                         0.3792      0.435      0.872      0.384      -0.475       1.234\n",
      "edLevel_PhD                                                                                                                              0.1379      0.494      0.279      0.780      -0.832       1.107\n",
      "edLevel_Some college                                                                                                                     0.2995      0.486      0.616      0.538      -0.655       1.254\n",
      "edLevel_Undergraduate                                                                                                                    0.3735      0.436      0.856      0.392      -0.483       1.230\n",
      "salaryRange_$100,000 - 124,999                                                                                                          -0.1047      0.525     -0.199      0.842      -1.136       0.926\n",
      "salaryRange_$125,000 - 149,999                                                                                                           0.1029      0.535      0.192      0.848      -0.948       1.154\n",
      "salaryRange_$150,000 - 174,999                                                                                                          -0.0962      0.544     -0.177      0.860      -1.164       0.971\n",
      "salaryRange_$175,000 - 199,999                                                                                                           0.2165      0.569      0.380      0.704      -0.901       1.334\n",
      "salaryRange_$200,000 - 224,999                                                                                                           0.0829      0.603      0.138      0.891      -1.102       1.268\n",
      "salaryRange_$225,000 - 249,999                                                                                                          -0.0927      0.647     -0.143      0.886      -1.363       1.178\n",
      "salaryRange_$250,000 - 274,999                                                                                                           0.3661      0.701      0.522      0.602      -1.011       1.743\n",
      "salaryRange_$50,000 - 74,999                                                                                                            -0.2490      0.541     -0.460      0.645      -1.311       0.813\n",
      "salaryRange_$75,000 - 99,999                                                                                                             0.0360      0.514      0.070      0.944      -0.973       1.045\n",
      "salaryRange_Less than $50,000                                                                                                           -0.6820      0.592     -1.151      0.250      -1.846       0.482\n",
      "salaryRange_More than $300,000                                                                                                           0.0816      0.593      0.138      0.891      -1.082       1.245\n",
      "directReports_10+                                                                                                                        0.0746      0.375      0.199      0.842      -0.662       0.811\n",
      "directReports_2-5                                                                                                                       -0.0741      0.371     -0.200      0.842      -0.804       0.655\n",
      "directReports_6-10                                                                                                                      -0.1378      0.375     -0.367      0.714      -0.875       0.599\n",
      "region_Midwest                                                                                                                          -0.3516      0.238     -1.478      0.140      -0.819       0.116\n",
      "region_Northeast                                                                                                                        -0.2625      0.237     -1.108      0.268      -0.728       0.203\n",
      "region_South                                                                                                                            -0.2797      0.221     -1.263      0.207      -0.714       0.155\n",
      "clust_zeroAndOne                                                                                                                        -0.2520      0.495     -0.509      0.611      -1.225       0.721\n",
      "clust_eight                                                                                                                             -0.2017      0.525     -0.384      0.701      -1.233       0.830\n",
      "clust_sixAndNine                                                                                                                         0.3108      0.619      0.502      0.616      -0.904       1.526\n",
      "==============================================================================\n",
      "Omnibus:                       18.743   Durbin-Watson:                   2.026\n",
      "Prob(Omnibus):                  0.000   Jarque-Bera (JB):               20.226\n",
      "Skew:                          -0.367   Prob(JB):                     4.06e-05\n",
      "Kurtosis:                       3.425   Cond. No.                         81.1\n",
      "==============================================================================\n",
      "\n",
      "Warnings:\n",
      "[1] Standard Errors assume that the covariance matrix of the errors is correctly specified.\n"
     ]
    }
   ],
   "source": [
    "min_utility_feats = sm.add_constant(min_utility_feats)\n",
    "\n",
    "model = sm.OLS(max_utility_scores, min_utility_feats)\n",
    "\n",
    "results = model.fit()\n",
    "\n",
    "print(results.summary())"
   ]
  }
 ],
 "metadata": {
  "kernelspec": {
   "display_name": "Python 3",
   "language": "python",
   "name": "python3"
  },
  "language_info": {
   "codemirror_mode": {
    "name": "ipython",
    "version": 3
   },
   "file_extension": ".py",
   "mimetype": "text/x-python",
   "name": "python",
   "nbconvert_exporter": "python",
   "pygments_lexer": "ipython3",
   "version": "3.6.10"
  }
 },
 "nbformat": 4,
 "nbformat_minor": 4
}
